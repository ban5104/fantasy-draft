{
 "cells": [
  {
   "cell_type": "markdown",
   "metadata": {},
   "source": [
    "# 🏈 Draft Model Comparison Analysis\n",
    "\n",
    "## Visual comparison of different probability models\n",
    "\n",
    "This notebook loads pre-computed comparison data from `scripts/run_model_comparison.py` and provides interactive visualizations to understand the differences between probability models.\n",
    "\n",
    "### 🎯 What You'll Compare:\n",
    "- **Model Performance** - Which models provide more realistic predictions?\n",
    "- **Player Availability** - How do different models affect player survival rates?\n",
    "- **Draft Strategy Impact** - Which models change your optimal picks?\n",
    "- **Risk vs Reward** - Conservative vs aggressive model tradeoffs"
   ]
  },
  {
   "cell_type": "code",
   "execution_count": 1,
   "metadata": {},
   "outputs": [
    {
     "name": "stdout",
     "output_type": "stream",
     "text": [
      "🚀 Libraries loaded successfully!\n"
     ]
    }
   ],
   "source": [
    "# 📦 Import libraries\n",
    "import pandas as pd\n",
    "import numpy as np\n",
    "import matplotlib.pyplot as plt\n",
    "import seaborn as sns\n",
    "import plotly.graph_objects as go\n",
    "import plotly.express as px\n",
    "from plotly.subplots import make_subplots\n",
    "import warnings\n",
    "warnings.filterwarnings('ignore')\n",
    "\n",
    "# 🎨 Styling\n",
    "plt.style.use('seaborn-v0_8-darkgrid')\n",
    "sns.set_palette('husl')\n",
    "\n",
    "# 🏈 Position colors for consistency\n",
    "POSITION_COLORS = {\n",
    "    'QB': '#FF6B6B',  # Red\n",
    "    'RB': '#4ECDC4',  # Teal  \n",
    "    'WR': '#45B7D1',  # Blue\n",
    "    'TE': '#96CEB4'   # Green\n",
    "}\n",
    "\n",
    "print(\"🚀 Libraries loaded successfully!\")"
   ]
  },
  {
   "cell_type": "code",
   "execution_count": null,
   "metadata": {},
   "outputs": [],
   "source": "# 📂 Load comparison data\ntry:\n    # Model summary comparison\n    model_summary = pd.read_csv('../data/model-comparisons/model_summary_comparison.csv')\n    \n    # Player-level survival comparison (legacy cross-family)\n    player_comparison = pd.read_csv('../data/model-comparisons/player_survival_comparison.csv')\n    \n    # Position-level comparison\n    position_comparison = pd.read_csv('../data/model-comparisons/position_survival_comparison.csv')\n    \n    # Family-specific comparisons (more accurate correlations)\n    espn_family_comparison = None\n    adp_family_comparison = None\n    \n    try:\n        espn_family_comparison = pd.read_csv('../data/model-comparisons/espn_family_comparison.csv')\n        print(f\"   📊 ESPN family: {len(espn_family_comparison)} players compared\")\n    except FileNotFoundError:\n        print(f\"   ⚠️  ESPN family comparison not found (need 2+ ESPN models)\")\n    \n    try:\n        adp_family_comparison = pd.read_csv('../data/model-comparisons/adp_family_comparison.csv')\n        print(f\"   📊 ADP family: {len(adp_family_comparison)} players compared\")\n    except FileNotFoundError:\n        print(f\"   ⚠️  ADP family comparison not found (need 2+ ADP models)\")\n    \n    print(f\"✅ Successfully loaded comparison data:\")\n    print(f\"   📊 {len(model_summary)} models compared\")\n    print(f\"   👥 {len(player_comparison)} players analyzed (cross-family)\")\n    print(f\"   🏈 {len(position_comparison)} position/pick combinations\")\n    \n    # Show model overview\n    print(f\"\\n🔍 Models compared:\")\n    for _, model in model_summary.iterrows():\n        print(f\"   • {model['model_id']}: {model['description']}\")\n        \nexcept FileNotFoundError as e:\n    print(f\"❌ Error loading comparison data: {e}\")\n    print(f\"Make sure you've run: python scripts/run_model_comparison.py\")"
  },
  {
   "cell_type": "code",
   "execution_count": 3,
   "metadata": {},
   "outputs": [
    {
     "data": {
      "application/vnd.plotly.v1+json": {
       "config": {
        "plotlyServerURL": "https://plot.ly"
       },
       "data": [
        {
         "hovertemplate": "<b>%{text}</b><br>Randomness: %{x}<br>Pool Size: %{y}<br>Top 10 Survival: %{marker.color:.1%}<br><extra></extra>",
         "marker": {
          "color": {
           "bdata": "ppat9UVC5T8j7rH0oQvmP1X7dDxmoOY/I+6x9KEL5j8=",
           "dtype": "f8"
          },
          "colorbar": {
           "len": 0.4,
           "title": {
            "text": "Top 10<br>Survival"
           },
           "x": 0.48,
           "y": 0.77
          },
          "colorscale": [
           [
            0,
            "rgb(165,0,38)"
           ],
           [
            0.1,
            "rgb(215,48,39)"
           ],
           [
            0.2,
            "rgb(244,109,67)"
           ],
           [
            0.3,
            "rgb(253,174,97)"
           ],
           [
            0.4,
            "rgb(254,224,139)"
           ],
           [
            0.5,
            "rgb(255,255,191)"
           ],
           [
            0.6,
            "rgb(217,239,139)"
           ],
           [
            0.7,
            "rgb(166,217,106)"
           ],
           [
            0.8,
            "rgb(102,189,99)"
           ],
           [
            0.9,
            "rgb(26,152,80)"
           ],
           [
            1,
            "rgb(0,104,55)"
           ]
          ],
          "showscale": true,
          "size": 15
         },
         "mode": "markers+text",
         "name": "Models",
         "text": [
          "espn_conservative",
          "espn_moderate",
          "espn_aggressive",
          "adp_baseline"
         ],
         "textfont": {
          "color": "white",
          "size": 8
         },
         "textposition": "middle center",
         "type": "scatter",
         "x": {
          "bdata": "mpmZmZmZyT8zMzMzMzPTP83MzMzMzNw/MzMzMzMz0z8=",
          "dtype": "f8"
         },
         "xaxis": "x",
         "y": {
          "bdata": "DxQZFA==",
          "dtype": "i1"
         },
         "yaxis": "y"
        },
        {
         "hovertemplate": "<b>%{x}</b><br>Top 10 Survival: %{y:.1%}<br><extra></extra>",
         "marker": {
          "color": [
           "#FF6B6B",
           "#4ECDC4",
           "#45B7D1",
           "#96CEB4"
          ]
         },
         "name": "Elite Availability",
         "text": [
          "66%",
          "69%",
          "71%",
          "69%"
         ],
         "textposition": "auto",
         "type": "bar",
         "x": [
          "espn_conservative",
          "espn_moderate",
          "espn_aggressive",
          "adp_baseline"
         ],
         "xaxis": "x2",
         "y": {
          "bdata": "ppat9UVC5T8j7rH0oQvmP1X7dDxmoOY/I+6x9KEL5j8=",
          "dtype": "f8"
         },
         "yaxis": "y2"
        },
        {
         "boxmean": true,
         "marker": {
          "color": "#FF6B6B"
         },
         "name": "espn_conservative",
         "showlegend": false,
         "type": "box",
         "xaxis": "x3",
         "y": {
          "bdata": "jnVxGw3gzT9+jLlrCfnYPwXFjzF3LeE/4umVsgxx5D/wFkhQ/BjnP4Lix5i7lug/fa62Yn/Z6T9bQj7o2azqPwHeAgmKH+s/rkfhehSu6z+X/5B++zrsPzAqqRPQROw/z/dT46Wb7D91kxgEVg7tPzBMpgpGJe0/FK5H4XoU7j8p7Q2+MJnuPwaBlUOLbO8/AAAAAAAA8D8AAAAAAADwPwAAAAAAAPA/AAAAAAAA8D8AAAAAAADwPwAAAAAAAPA/AAAAAAAA8D8AAAAAAADwPwAAAAAAAPA/AAAAAAAA8D8AAAAAAADwPwAAAAAAAPA/AAAAAAAA8D8AAAAAAADwPwAAAAAAAPA/AAAAAAAA8D8AAAAAAADwPwAAAAAAAPA/AAAAAAAA8D8AAAAAAADwPwAAAAAAAPA/AAAAAAAA8D8AAAAAAADwPwAAAAAAAPA/AAAAAAAA8D8AAAAAAADwPwAAAAAAAPA/AAAAAAAA8D8AAAAAAADwPwAAAAAAAPA/AAAAAAAA8D8AAAAAAADwPw==",
          "dtype": "f8"
         },
         "yaxis": "y3"
        },
        {
         "boxmean": true,
         "marker": {
          "color": "#4ECDC4"
         },
         "name": "espn_conservative2",
         "showlegend": false,
         "type": "box",
         "xaxis": "x3",
         "y": {
          "bdata": "AAAAAAAAAAAAAAAAAAAAAAAAAAAAAAAAAAAAAAAAAAAAAAAAAAAAAAAAAAAAAAAAAAAAAAAAAAAAAAAAAAAAAAAAAAAAAAAAAAAAAAAAAAAAAAAAAAAAAC1DHOviNio/AAAAAAAAAAAtQxzr4jYqPwAAAAAAAAAAAAAAAAAAAAAAAAAAAAAAAC1DHOviNio/AAAAAAAAAAAAAAAAAAAAAC1DHOviNio/YTJVMCqpQz8tQxzr4jYqP8e6uI0G8FY/YTJVMCqpUz+U9gZfmExlP8WPMXctIW8/YTJVMCqpcz+U9gZfmEx1PyL99nXgnIE/YTJVMCqpgz9fB84ZUdqLPxsv3SQGgZU/BTQRNjy9oj/kg57Nqs+lP7wFEhQ/xqw/2/l+arx0sz/hehSuR+G6P9/gC5OpgsE/EoPAyqFFxj99PzVeuknMP05iEFg5tNA/qRPQRNjw1D8yVTAqqRPYPzMzMzMzM9s/uB6F61G43j+C4seYu5bgP7RZ9bnaiuE/i2zn+6nx4j82qz5XW7HjPw==",
          "dtype": "f8"
         },
         "yaxis": "y3"
        },
        {
         "boxmean": true,
         "marker": {
          "color": "#45B7D1"
         },
         "name": "espn_moderate",
         "showlegend": false,
         "type": "box",
         "xaxis": "x3",
         "y": {
          "bdata": "JCh+jLlr0T9hMlUwKqnbP8iYu5aQD+I/6Nms+lxt5T/Q1VbsL7vnP662Yn/ZPek/whcmUwWj6j9os+pztRXrP4y5awn5oOs/Qxzr4jYa7D+V1AloImzsP8X+snvysOw/H4XrUbge7T83GsBbIEHtP4EExY8xd+0/PL1SliGO7T/3deCcEaXtP32utmJ/2e0/FK5H4XoU7j+u2F92Tx7uPxgmUwWjku4/1lbsL7sn7z8EVg4tsp3vPwAAAAAAAPA/AAAAAAAA8D8AAAAAAADwPwAAAAAAAPA/AAAAAAAA8D8AAAAAAADwPwAAAAAAAPA/AAAAAAAA8D8AAAAAAADwPwAAAAAAAPA/AAAAAAAA8D8AAAAAAADwPwAAAAAAAPA/AAAAAAAA8D8AAAAAAADwPwAAAAAAAPA/AAAAAAAA8D8AAAAAAADwPwAAAAAAAPA/AAAAAAAA8D8AAAAAAADwPwAAAAAAAPA/AAAAAAAA8D8AAAAAAADwPwAAAAAAAPA/AAAAAAAA8D8AAAAAAADwPw==",
          "dtype": "f8"
         },
         "yaxis": "y3"
        },
        {
         "boxmean": true,
         "marker": {
          "color": "#96CEB4"
         },
         "name": "espn_moderate2",
         "showlegend": false,
         "type": "box",
         "xaxis": "x3",
         "y": {
          "bdata": "AAAAAAAAAAAAAAAAAAAAAAAAAAAAAAAAAAAAAAAAAAAAAAAAAAAAAAAAAAAAAAAAAAAAAAAAAAAAAAAAAAAAAAAAAAAAAAAAAAAAAAAAAAAAAAAAAAAAAAAAAAAAAAAAAAAAAAAAAAAtQxzr4jYqPy1DHOviNjo/LUMc6+I2Sj9hMlUwKqlDPy1DHOviNko/LUMc6+I2Oj8tQxzr4jZKPy1DHOviNlo//Knx0k1iYD/HuriNBvBWPxWMSuoENHE/SFD8GHPXcj8VjErqBDRxP1XBqKROQIM/rthfdk8ehj8tQxzr4jaKPwFNhA1Pr5Q/pgpGJXUCmj+C4seYu5agP03zjlN0JKc/S8gHPZtVrz8wTKYKRiW1P40o7Q2+MLk/waikTkATwT8eFmpN847DP4nS3uALk8k/vHSTGARWzj/CFyZTBaPSP0tZhjjWxdU/1sVtNIC32D+M22gAb4HcP2sr9pfdk98/LSEf9GxW4T+OdXEbDeDhPxlz1xLyQeM/YVRSJ6CJ5D+kcD0K16PkPw==",
          "dtype": "f8"
         },
         "yaxis": "y3"
        },
        {
         "boxmean": true,
         "marker": {
          "color": "#FF6B6B"
         },
         "name": "espn_aggressive",
         "showlegend": false,
         "type": "box",
         "xaxis": "x3",
         "y": {
          "bdata": "BaOSOgFN1D/TvOMUHcndP08eFmpN8+I/PQrXo3A95j/Mf0i/fR3oP7snDwu1puk/j8L1KFyP6j+wcmiR7XzrP6wcWmQ73+s/Y3/ZPXlY7D+1N/jCZKrsP0I+6Nms+uw/7C+7Jw8L7T+9UpYhjnXtP7RZ9bnaiu0/si5uowG87T8GEhQ/xtztP2HD0ytlGe4/PzVeukkM7j9mZmZmZmbuPxSuR+F6FO4/mbuWkA967j8Sg8DKoUXuP9UJaCJseO4/QYLix5i77j+Cc0aU9gbvPxB6Nqs+V+8/OdbFbTSA7z8AAAAAAADwPwAAAAAAAPA/AAAAAAAA8D8AAAAAAADwPwAAAAAAAPA/AAAAAAAA8D8AAAAAAADwPwAAAAAAAPA/AAAAAAAA8D8AAAAAAADwPwAAAAAAAPA/AAAAAAAA8D8AAAAAAADwPwAAAAAAAPA/AAAAAAAA8D8AAAAAAADwPwAAAAAAAPA/AAAAAAAA8D8AAAAAAADwPwAAAAAAAPA/AAAAAAAA8D8AAAAAAADwPw==",
          "dtype": "f8"
         },
         "yaxis": "y3"
        },
        {
         "boxmean": true,
         "marker": {
          "color": "#4ECDC4"
         },
         "name": "espn_aggressive2",
         "showlegend": false,
         "type": "box",
         "xaxis": "x3",
         "y": {
          "bdata": "AAAAAAAAAAAAAAAAAAAAAAAAAAAAAAAAAAAAAAAAAAAAAAAAAAAAAAAAAAAAAAAALUMc6+I2Kj8AAAAAAAAAAAAAAAAAAAAALUMc6+I2Kj8tQxzr4jYqPy1DHOviNjo/LUMc6+I2Sj8tQxzr4jYqP2EyVTAqqUM/YTJVMCqpQz9hMlUwKqlDP/yp8dJNYmA/L26jAbwFYj8tQxzr4jZaP/yp8dJNYnA/kst/SL99bT9GJXUCmgh7P6yt2F92T34/L26jAbwFgj9uowG8BRKEPyL99nXgnJE/QYLix5i7lj956SYxCKycPyL99nXgnKE/y6FFtvP9pD8y5q4l5IOuPw3gLZCg+LE/okW28/3UuD8AAAAAAADAP/AWSFD8GMM/c9cS8kHPxj8gQfFjzF3LPwRWDi2ync8/SnuDL0ym0j/whclUwajUP6abxCCwctg/eHqlLEMc2z/kg57Nqs/dP9obfGEyVeA/9P3UeOkm4T9iEFg5tMjiPyo6kst/SOM/W7G/7J485D8Mk6mCUUnlPw==",
          "dtype": "f8"
         },
         "yaxis": "y3"
        },
        {
         "boxmean": true,
         "marker": {
          "color": "#45B7D1"
         },
         "name": "adp_baseline",
         "showlegend": false,
         "type": "box",
         "xaxis": "x3",
         "y": {
          "bdata": "JCh+jLlr0T9hMlUwKqnbP8iYu5aQD+I/6Nms+lxt5T/Q1VbsL7vnP662Yn/ZPek/whcmUwWj6j9os+pztRXrP4y5awn5oOs/Qxzr4jYa7D+V1AloImzsP8X+snvysOw/H4XrUbge7T83GsBbIEHtP4EExY8xd+0/PL1SliGO7T/3deCcEaXtP32utmJ/2e0/FK5H4XoU7j+u2F92Tx7uPxgmUwWjku4/1lbsL7sn7z8EVg4tsp3vPwAAAAAAAPA/AAAAAAAA8D8AAAAAAADwPwAAAAAAAPA/AAAAAAAA8D8AAAAAAADwPwAAAAAAAPA/AAAAAAAA8D8AAAAAAADwPwAAAAAAAPA/AAAAAAAA8D8AAAAAAADwPwAAAAAAAPA/AAAAAAAA8D8AAAAAAADwPwAAAAAAAPA/AAAAAAAA8D8AAAAAAADwPwAAAAAAAPA/AAAAAAAA8D8AAAAAAADwPwAAAAAAAPA/AAAAAAAA8D8AAAAAAADwPwAAAAAAAPA/AAAAAAAA8D8AAAAAAADwPw==",
          "dtype": "f8"
         },
         "yaxis": "y3"
        },
        {
         "boxmean": true,
         "marker": {
          "color": "#96CEB4"
         },
         "name": "adp_baseline2",
         "showlegend": false,
         "type": "box",
         "xaxis": "x3",
         "y": {
          "bdata": "AAAAAAAAAAAAAAAAAAAAAAAAAAAAAAAAAAAAAAAAAAAAAAAAAAAAAAAAAAAAAAAAAAAAAAAAAAAAAAAAAAAAAAAAAAAAAAAAAAAAAAAAAAAAAAAAAAAAAAAAAAAAAAAAAAAAAAAAAAAtQxzr4jYqPy1DHOviNjo/LUMc6+I2Sj9hMlUwKqlDPy1DHOviNko/LUMc6+I2Oj8tQxzr4jZKPy1DHOviNlo//Knx0k1iYD/HuriNBvBWPxWMSuoENHE/SFD8GHPXcj8VjErqBDRxP1XBqKROQIM/rthfdk8ehj8tQxzr4jaKPwFNhA1Pr5Q/pgpGJXUCmj+C4seYu5agP03zjlN0JKc/S8gHPZtVrz8wTKYKRiW1P40o7Q2+MLk/waikTkATwT8eFmpN847DP4nS3uALk8k/vHSTGARWzj/CFyZTBaPSP0tZhjjWxdU/1sVtNIC32D+M22gAb4HcP2sr9pfdk98/LSEf9GxW4T+OdXEbDeDhPxlz1xLyQeM/YVRSJ6CJ5D+kcD0K16PkPw==",
          "dtype": "f8"
         },
         "yaxis": "y3"
        },
        {
         "colorbar": {
          "len": 0.4,
          "title": {
           "text": "Avg<br>Survival"
          },
          "x": 1.02,
          "y": 0.25
         },
         "colorscale": [
          [
           0,
           "rgb(165,0,38)"
          ],
          [
           0.1,
           "rgb(215,48,39)"
          ],
          [
           0.2,
           "rgb(244,109,67)"
          ],
          [
           0.3,
           "rgb(253,174,97)"
          ],
          [
           0.4,
           "rgb(254,224,139)"
          ],
          [
           0.5,
           "rgb(255,255,191)"
          ],
          [
           0.6,
           "rgb(217,239,139)"
          ],
          [
           0.7,
           "rgb(166,217,106)"
          ],
          [
           0.8,
           "rgb(102,189,99)"
          ],
          [
           0.9,
           "rgb(26,152,80)"
          ],
          [
           1,
           "rgb(0,104,55)"
          ]
         ],
         "showscale": true,
         "text": {
          "bdata": "mpmZmZmZ6T9I4XoUrkfpP5qZmZmZmek/mpmZmZmZ6T+kcD0K16PQP+xRuB6F69E/AAAAAAAA0D+kcD0K16PQPzMzMzMzM+s/MzMzMzMz6z8zMzMzMzPrPzMzMzMzM+s/KVyPwvUozD+4HoXrUbjOP+F6FK5H4co/KVyPwvUozD8=",
          "dtype": "f8",
          "shape": "4, 4"
         },
         "textfont": {
          "size": 10
         },
         "texttemplate": "%{text:.0%}",
         "type": "heatmap",
         "x": [
          "adp_baseline",
          "espn_aggressive",
          "espn_conservative",
          "espn_moderate"
         ],
         "xaxis": "x4",
         "y": [
          "QB",
          "RB",
          "TE",
          "WR"
         ],
         "yaxis": "y4",
         "z": {
          "bdata": "lUOLbOd76T+IhVrTvGPpPwH20akrn+k/lUOLbOd76T8T7Sqk/KTQPwMmcOtuntE/6pWyDHGszz8T7Sqk/KTQPzf92Y8UEes/SmO0jqom6z+yaDo7GRzrPzf92Y8UEes/nfS+8bVnzD9Pqn06HjPOP1EU6BN5kso/nfS+8bVnzD8=",
          "dtype": "f8",
          "shape": "4, 4"
         }
        }
       ],
       "layout": {
        "annotations": [
         {
          "font": {
           "size": 16
          },
          "showarrow": false,
          "text": "⚙️ Model Configuration Comparison",
          "x": 0.225,
          "xanchor": "center",
          "xref": "paper",
          "y": 1,
          "yanchor": "bottom",
          "yref": "paper"
         },
         {
          "font": {
           "size": 16
          },
          "showarrow": false,
          "text": "📈 Elite Player Availability (Top 10)",
          "x": 0.775,
          "xanchor": "center",
          "xref": "paper",
          "y": 1,
          "yanchor": "bottom",
          "yref": "paper"
         },
         {
          "font": {
           "size": 16
          },
          "showarrow": false,
          "text": "🎯 Pick 5 Survival Rate Distribution",
          "x": 0.225,
          "xanchor": "center",
          "xref": "paper",
          "y": 0.375,
          "yanchor": "bottom",
          "yref": "paper"
         },
         {
          "font": {
           "size": 16
          },
          "showarrow": false,
          "text": "🏈 Position-Specific Model Impact",
          "x": 0.775,
          "xanchor": "center",
          "xref": "paper",
          "y": 0.375,
          "yanchor": "bottom",
          "yref": "paper"
         }
        ],
        "height": 800,
        "template": {
         "data": {
          "bar": [
           {
            "error_x": {
             "color": "#2a3f5f"
            },
            "error_y": {
             "color": "#2a3f5f"
            },
            "marker": {
             "line": {
              "color": "white",
              "width": 0.5
             },
             "pattern": {
              "fillmode": "overlay",
              "size": 10,
              "solidity": 0.2
             }
            },
            "type": "bar"
           }
          ],
          "barpolar": [
           {
            "marker": {
             "line": {
              "color": "white",
              "width": 0.5
             },
             "pattern": {
              "fillmode": "overlay",
              "size": 10,
              "solidity": 0.2
             }
            },
            "type": "barpolar"
           }
          ],
          "carpet": [
           {
            "aaxis": {
             "endlinecolor": "#2a3f5f",
             "gridcolor": "#C8D4E3",
             "linecolor": "#C8D4E3",
             "minorgridcolor": "#C8D4E3",
             "startlinecolor": "#2a3f5f"
            },
            "baxis": {
             "endlinecolor": "#2a3f5f",
             "gridcolor": "#C8D4E3",
             "linecolor": "#C8D4E3",
             "minorgridcolor": "#C8D4E3",
             "startlinecolor": "#2a3f5f"
            },
            "type": "carpet"
           }
          ],
          "choropleth": [
           {
            "colorbar": {
             "outlinewidth": 0,
             "ticks": ""
            },
            "type": "choropleth"
           }
          ],
          "contour": [
           {
            "colorbar": {
             "outlinewidth": 0,
             "ticks": ""
            },
            "colorscale": [
             [
              0,
              "#0d0887"
             ],
             [
              0.1111111111111111,
              "#46039f"
             ],
             [
              0.2222222222222222,
              "#7201a8"
             ],
             [
              0.3333333333333333,
              "#9c179e"
             ],
             [
              0.4444444444444444,
              "#bd3786"
             ],
             [
              0.5555555555555556,
              "#d8576b"
             ],
             [
              0.6666666666666666,
              "#ed7953"
             ],
             [
              0.7777777777777778,
              "#fb9f3a"
             ],
             [
              0.8888888888888888,
              "#fdca26"
             ],
             [
              1,
              "#f0f921"
             ]
            ],
            "type": "contour"
           }
          ],
          "contourcarpet": [
           {
            "colorbar": {
             "outlinewidth": 0,
             "ticks": ""
            },
            "type": "contourcarpet"
           }
          ],
          "heatmap": [
           {
            "colorbar": {
             "outlinewidth": 0,
             "ticks": ""
            },
            "colorscale": [
             [
              0,
              "#0d0887"
             ],
             [
              0.1111111111111111,
              "#46039f"
             ],
             [
              0.2222222222222222,
              "#7201a8"
             ],
             [
              0.3333333333333333,
              "#9c179e"
             ],
             [
              0.4444444444444444,
              "#bd3786"
             ],
             [
              0.5555555555555556,
              "#d8576b"
             ],
             [
              0.6666666666666666,
              "#ed7953"
             ],
             [
              0.7777777777777778,
              "#fb9f3a"
             ],
             [
              0.8888888888888888,
              "#fdca26"
             ],
             [
              1,
              "#f0f921"
             ]
            ],
            "type": "heatmap"
           }
          ],
          "histogram": [
           {
            "marker": {
             "pattern": {
              "fillmode": "overlay",
              "size": 10,
              "solidity": 0.2
             }
            },
            "type": "histogram"
           }
          ],
          "histogram2d": [
           {
            "colorbar": {
             "outlinewidth": 0,
             "ticks": ""
            },
            "colorscale": [
             [
              0,
              "#0d0887"
             ],
             [
              0.1111111111111111,
              "#46039f"
             ],
             [
              0.2222222222222222,
              "#7201a8"
             ],
             [
              0.3333333333333333,
              "#9c179e"
             ],
             [
              0.4444444444444444,
              "#bd3786"
             ],
             [
              0.5555555555555556,
              "#d8576b"
             ],
             [
              0.6666666666666666,
              "#ed7953"
             ],
             [
              0.7777777777777778,
              "#fb9f3a"
             ],
             [
              0.8888888888888888,
              "#fdca26"
             ],
             [
              1,
              "#f0f921"
             ]
            ],
            "type": "histogram2d"
           }
          ],
          "histogram2dcontour": [
           {
            "colorbar": {
             "outlinewidth": 0,
             "ticks": ""
            },
            "colorscale": [
             [
              0,
              "#0d0887"
             ],
             [
              0.1111111111111111,
              "#46039f"
             ],
             [
              0.2222222222222222,
              "#7201a8"
             ],
             [
              0.3333333333333333,
              "#9c179e"
             ],
             [
              0.4444444444444444,
              "#bd3786"
             ],
             [
              0.5555555555555556,
              "#d8576b"
             ],
             [
              0.6666666666666666,
              "#ed7953"
             ],
             [
              0.7777777777777778,
              "#fb9f3a"
             ],
             [
              0.8888888888888888,
              "#fdca26"
             ],
             [
              1,
              "#f0f921"
             ]
            ],
            "type": "histogram2dcontour"
           }
          ],
          "mesh3d": [
           {
            "colorbar": {
             "outlinewidth": 0,
             "ticks": ""
            },
            "type": "mesh3d"
           }
          ],
          "parcoords": [
           {
            "line": {
             "colorbar": {
              "outlinewidth": 0,
              "ticks": ""
             }
            },
            "type": "parcoords"
           }
          ],
          "pie": [
           {
            "automargin": true,
            "type": "pie"
           }
          ],
          "scatter": [
           {
            "fillpattern": {
             "fillmode": "overlay",
             "size": 10,
             "solidity": 0.2
            },
            "type": "scatter"
           }
          ],
          "scatter3d": [
           {
            "line": {
             "colorbar": {
              "outlinewidth": 0,
              "ticks": ""
             }
            },
            "marker": {
             "colorbar": {
              "outlinewidth": 0,
              "ticks": ""
             }
            },
            "type": "scatter3d"
           }
          ],
          "scattercarpet": [
           {
            "marker": {
             "colorbar": {
              "outlinewidth": 0,
              "ticks": ""
             }
            },
            "type": "scattercarpet"
           }
          ],
          "scattergeo": [
           {
            "marker": {
             "colorbar": {
              "outlinewidth": 0,
              "ticks": ""
             }
            },
            "type": "scattergeo"
           }
          ],
          "scattergl": [
           {
            "marker": {
             "colorbar": {
              "outlinewidth": 0,
              "ticks": ""
             }
            },
            "type": "scattergl"
           }
          ],
          "scattermap": [
           {
            "marker": {
             "colorbar": {
              "outlinewidth": 0,
              "ticks": ""
             }
            },
            "type": "scattermap"
           }
          ],
          "scattermapbox": [
           {
            "marker": {
             "colorbar": {
              "outlinewidth": 0,
              "ticks": ""
             }
            },
            "type": "scattermapbox"
           }
          ],
          "scatterpolar": [
           {
            "marker": {
             "colorbar": {
              "outlinewidth": 0,
              "ticks": ""
             }
            },
            "type": "scatterpolar"
           }
          ],
          "scatterpolargl": [
           {
            "marker": {
             "colorbar": {
              "outlinewidth": 0,
              "ticks": ""
             }
            },
            "type": "scatterpolargl"
           }
          ],
          "scatterternary": [
           {
            "marker": {
             "colorbar": {
              "outlinewidth": 0,
              "ticks": ""
             }
            },
            "type": "scatterternary"
           }
          ],
          "surface": [
           {
            "colorbar": {
             "outlinewidth": 0,
             "ticks": ""
            },
            "colorscale": [
             [
              0,
              "#0d0887"
             ],
             [
              0.1111111111111111,
              "#46039f"
             ],
             [
              0.2222222222222222,
              "#7201a8"
             ],
             [
              0.3333333333333333,
              "#9c179e"
             ],
             [
              0.4444444444444444,
              "#bd3786"
             ],
             [
              0.5555555555555556,
              "#d8576b"
             ],
             [
              0.6666666666666666,
              "#ed7953"
             ],
             [
              0.7777777777777778,
              "#fb9f3a"
             ],
             [
              0.8888888888888888,
              "#fdca26"
             ],
             [
              1,
              "#f0f921"
             ]
            ],
            "type": "surface"
           }
          ],
          "table": [
           {
            "cells": {
             "fill": {
              "color": "#EBF0F8"
             },
             "line": {
              "color": "white"
             }
            },
            "header": {
             "fill": {
              "color": "#C8D4E3"
             },
             "line": {
              "color": "white"
             }
            },
            "type": "table"
           }
          ]
         },
         "layout": {
          "annotationdefaults": {
           "arrowcolor": "#2a3f5f",
           "arrowhead": 0,
           "arrowwidth": 1
          },
          "autotypenumbers": "strict",
          "coloraxis": {
           "colorbar": {
            "outlinewidth": 0,
            "ticks": ""
           }
          },
          "colorscale": {
           "diverging": [
            [
             0,
             "#8e0152"
            ],
            [
             0.1,
             "#c51b7d"
            ],
            [
             0.2,
             "#de77ae"
            ],
            [
             0.3,
             "#f1b6da"
            ],
            [
             0.4,
             "#fde0ef"
            ],
            [
             0.5,
             "#f7f7f7"
            ],
            [
             0.6,
             "#e6f5d0"
            ],
            [
             0.7,
             "#b8e186"
            ],
            [
             0.8,
             "#7fbc41"
            ],
            [
             0.9,
             "#4d9221"
            ],
            [
             1,
             "#276419"
            ]
           ],
           "sequential": [
            [
             0,
             "#0d0887"
            ],
            [
             0.1111111111111111,
             "#46039f"
            ],
            [
             0.2222222222222222,
             "#7201a8"
            ],
            [
             0.3333333333333333,
             "#9c179e"
            ],
            [
             0.4444444444444444,
             "#bd3786"
            ],
            [
             0.5555555555555556,
             "#d8576b"
            ],
            [
             0.6666666666666666,
             "#ed7953"
            ],
            [
             0.7777777777777778,
             "#fb9f3a"
            ],
            [
             0.8888888888888888,
             "#fdca26"
            ],
            [
             1,
             "#f0f921"
            ]
           ],
           "sequentialminus": [
            [
             0,
             "#0d0887"
            ],
            [
             0.1111111111111111,
             "#46039f"
            ],
            [
             0.2222222222222222,
             "#7201a8"
            ],
            [
             0.3333333333333333,
             "#9c179e"
            ],
            [
             0.4444444444444444,
             "#bd3786"
            ],
            [
             0.5555555555555556,
             "#d8576b"
            ],
            [
             0.6666666666666666,
             "#ed7953"
            ],
            [
             0.7777777777777778,
             "#fb9f3a"
            ],
            [
             0.8888888888888888,
             "#fdca26"
            ],
            [
             1,
             "#f0f921"
            ]
           ]
          },
          "colorway": [
           "#636efa",
           "#EF553B",
           "#00cc96",
           "#ab63fa",
           "#FFA15A",
           "#19d3f3",
           "#FF6692",
           "#B6E880",
           "#FF97FF",
           "#FECB52"
          ],
          "font": {
           "color": "#2a3f5f"
          },
          "geo": {
           "bgcolor": "white",
           "lakecolor": "white",
           "landcolor": "white",
           "showlakes": true,
           "showland": true,
           "subunitcolor": "#C8D4E3"
          },
          "hoverlabel": {
           "align": "left"
          },
          "hovermode": "closest",
          "mapbox": {
           "style": "light"
          },
          "paper_bgcolor": "white",
          "plot_bgcolor": "white",
          "polar": {
           "angularaxis": {
            "gridcolor": "#EBF0F8",
            "linecolor": "#EBF0F8",
            "ticks": ""
           },
           "bgcolor": "white",
           "radialaxis": {
            "gridcolor": "#EBF0F8",
            "linecolor": "#EBF0F8",
            "ticks": ""
           }
          },
          "scene": {
           "xaxis": {
            "backgroundcolor": "white",
            "gridcolor": "#DFE8F3",
            "gridwidth": 2,
            "linecolor": "#EBF0F8",
            "showbackground": true,
            "ticks": "",
            "zerolinecolor": "#EBF0F8"
           },
           "yaxis": {
            "backgroundcolor": "white",
            "gridcolor": "#DFE8F3",
            "gridwidth": 2,
            "linecolor": "#EBF0F8",
            "showbackground": true,
            "ticks": "",
            "zerolinecolor": "#EBF0F8"
           },
           "zaxis": {
            "backgroundcolor": "white",
            "gridcolor": "#DFE8F3",
            "gridwidth": 2,
            "linecolor": "#EBF0F8",
            "showbackground": true,
            "ticks": "",
            "zerolinecolor": "#EBF0F8"
           }
          },
          "shapedefaults": {
           "line": {
            "color": "#2a3f5f"
           }
          },
          "ternary": {
           "aaxis": {
            "gridcolor": "#DFE8F3",
            "linecolor": "#A2B1C6",
            "ticks": ""
           },
           "baxis": {
            "gridcolor": "#DFE8F3",
            "linecolor": "#A2B1C6",
            "ticks": ""
           },
           "bgcolor": "white",
           "caxis": {
            "gridcolor": "#DFE8F3",
            "linecolor": "#A2B1C6",
            "ticks": ""
           }
          },
          "title": {
           "x": 0.05
          },
          "xaxis": {
           "automargin": true,
           "gridcolor": "#EBF0F8",
           "linecolor": "#EBF0F8",
           "ticks": "",
           "title": {
            "standoff": 15
           },
           "zerolinecolor": "#EBF0F8",
           "zerolinewidth": 2
          },
          "yaxis": {
           "automargin": true,
           "gridcolor": "#EBF0F8",
           "linecolor": "#EBF0F8",
           "ticks": "",
           "title": {
            "standoff": 15
           },
           "zerolinecolor": "#EBF0F8",
           "zerolinewidth": 2
          }
         }
        },
        "title": {
         "text": "📊 Model Comparison Dashboard",
         "x": 0.5
        },
        "xaxis": {
         "anchor": "y",
         "domain": [
          0,
          0.45
         ],
         "title": {
          "text": "Randomness Level"
         }
        },
        "xaxis2": {
         "anchor": "y2",
         "domain": [
          0.55,
          1
         ],
         "title": {
          "text": "Model"
         }
        },
        "xaxis3": {
         "anchor": "y3",
         "domain": [
          0,
          0.45
         ],
         "title": {
          "text": "Model"
         }
        },
        "xaxis4": {
         "anchor": "y4",
         "domain": [
          0.55,
          1
         ],
         "title": {
          "text": "Model"
         }
        },
        "yaxis": {
         "anchor": "x",
         "domain": [
          0.625,
          1
         ],
         "title": {
          "text": "Candidate Pool Size"
         }
        },
        "yaxis2": {
         "anchor": "x2",
         "domain": [
          0.625,
          1
         ],
         "tickformat": ".0%",
         "title": {
          "text": "Survival Rate"
         }
        },
        "yaxis3": {
         "anchor": "x3",
         "domain": [
          0,
          0.375
         ],
         "tickformat": ".0%",
         "title": {
          "text": "Pick 5 Survival Rate"
         }
        },
        "yaxis4": {
         "anchor": "x4",
         "domain": [
          0,
          0.375
         ],
         "title": {
          "text": "Position"
         }
        }
       }
      }
     },
     "metadata": {},
     "output_type": "display_data"
    },
    {
     "name": "stdout",
     "output_type": "stream",
     "text": [
      "\n",
      "🎯 KEY INSIGHTS:\n",
      "   📊 4 models with different risk profiles\n",
      "   🔥 Elite availability varies by 4%\n",
      "   ⚙️ Higher randomness = more unpredictable drafts\n",
      "   🏈 Position patterns consistent across models\n"
     ]
    }
   ],
   "source": [
    "# 📊 Model Overview Dashboard\n",
    "def create_model_overview():\n",
    "    \"\"\"Create high-level comparison of all models\"\"\"\n",
    "    \n",
    "    fig = make_subplots(\n",
    "        rows=2, cols=2,\n",
    "        subplot_titles=(\n",
    "            '⚙️ Model Configuration Comparison',\n",
    "            '📈 Elite Player Availability (Top 10)',\n",
    "            '🎯 Pick 5 Survival Rate Distribution', \n",
    "            '🏈 Position-Specific Model Impact'\n",
    "        ),\n",
    "        specs=[[{'type': 'scatter'}, {'type': 'bar'}],\n",
    "               [{'type': 'box'}, {'type': 'heatmap'}]]\n",
    "    )\n",
    "    \n",
    "    # 1. Configuration scatter plot\n",
    "    fig.add_trace(\n",
    "        go.Scatter(\n",
    "            x=model_summary['randomness_level'],\n",
    "            y=model_summary['pool_size'],\n",
    "            mode='markers+text',\n",
    "            marker=dict(\n",
    "                size=15,\n",
    "                color=model_summary['top10_survival_pick5'],\n",
    "                colorscale='RdYlGn',\n",
    "                showscale=True,\n",
    "                colorbar=dict(title=\"Top 10<br>Survival\", x=0.48, y=0.77, len=0.4)\n",
    "            ),\n",
    "            text=model_summary['model_id'],\n",
    "            textposition='middle center',\n",
    "            textfont=dict(size=8, color='white'),\n",
    "            name='Models',\n",
    "            hovertemplate=(\n",
    "                \"<b>%{text}</b><br>\"\n",
    "                \"Randomness: %{x}<br>\"\n",
    "                \"Pool Size: %{y}<br>\"\n",
    "                \"Top 10 Survival: %{marker.color:.1%}<br>\"\n",
    "                \"<extra></extra>\"\n",
    "            )\n",
    "        ),\n",
    "        row=1, col=1\n",
    "    )\n",
    "    \n",
    "    # 2. Elite availability comparison\n",
    "    fig.add_trace(\n",
    "        go.Bar(\n",
    "            x=model_summary['model_id'],\n",
    "            y=model_summary['top10_survival_pick5'],\n",
    "            marker_color=['#FF6B6B', '#4ECDC4', '#45B7D1', '#96CEB4'][:len(model_summary)],\n",
    "            text=[f\"{v:.0%}\" for v in model_summary['top10_survival_pick5']],\n",
    "            textposition='auto',\n",
    "            name='Elite Availability',\n",
    "            hovertemplate=(\n",
    "                \"<b>%{x}</b><br>\"\n",
    "                \"Top 10 Survival: %{y:.1%}<br>\"\n",
    "                \"<extra></extra>\"\n",
    "            )\n",
    "        ),\n",
    "        row=1, col=2\n",
    "    )\n",
    "    \n",
    "    # 3. Distribution comparison (Pick 5 survival rates)\n",
    "    pick5_cols = [col for col in player_comparison.columns if 'survival_pick_5' in col]\n",
    "    \n",
    "    for i, col in enumerate(pick5_cols):\n",
    "        model_id = col.replace('_survival_pick_5', '')\n",
    "        survival_data = player_comparison[col].dropna()\n",
    "        \n",
    "        fig.add_trace(\n",
    "            go.Box(\n",
    "                y=survival_data,\n",
    "                name=model_id,\n",
    "                boxmean=True,\n",
    "                marker_color=['#FF6B6B', '#4ECDC4', '#45B7D1', '#96CEB4'][i % 4],\n",
    "                showlegend=False\n",
    "            ),\n",
    "            row=2, col=1\n",
    "        )\n",
    "    \n",
    "    # 4. Position heatmap\n",
    "    # Create position comparison matrix\n",
    "    position_matrix = position_comparison.pivot_table(\n",
    "        index='position', \n",
    "        columns='model_id', \n",
    "        values='top10_avg_survival',\n",
    "        aggfunc='mean'\n",
    "    )\n",
    "    \n",
    "    fig.add_trace(\n",
    "        go.Heatmap(\n",
    "            z=position_matrix.values,\n",
    "            x=position_matrix.columns,\n",
    "            y=position_matrix.index,\n",
    "            colorscale='RdYlGn',\n",
    "            text=np.round(position_matrix.values, 2),\n",
    "            texttemplate='%{text:.0%}',\n",
    "            textfont=dict(size=10),\n",
    "            showscale=True,\n",
    "            colorbar=dict(title=\"Avg<br>Survival\", x=1.02, y=0.25, len=0.4)\n",
    "        ),\n",
    "        row=2, col=2\n",
    "    )\n",
    "    \n",
    "    # Update layout\n",
    "    fig.update_xaxes(title_text=\"Randomness Level\", row=1, col=1)\n",
    "    fig.update_xaxes(title_text=\"Model\", row=1, col=2)\n",
    "    fig.update_xaxes(title_text=\"Model\", row=2, col=1)\n",
    "    fig.update_xaxes(title_text=\"Model\", row=2, col=2)\n",
    "    \n",
    "    fig.update_yaxes(title_text=\"Candidate Pool Size\", row=1, col=1)\n",
    "    fig.update_yaxes(title_text=\"Survival Rate\", row=1, col=2, tickformat='.0%')\n",
    "    fig.update_yaxes(title_text=\"Pick 5 Survival Rate\", row=2, col=1, tickformat='.0%')\n",
    "    fig.update_yaxes(title_text=\"Position\", row=2, col=2)\n",
    "    \n",
    "    fig.update_layout(\n",
    "        height=800,\n",
    "        title_text=\"📊 Model Comparison Dashboard\",\n",
    "        title_x=0.5,\n",
    "        template=\"plotly_white\"\n",
    "    )\n",
    "    \n",
    "    return fig\n",
    "\n",
    "# Generate and display overview\n",
    "overview_fig = create_model_overview()\n",
    "overview_fig.show()\n",
    "\n",
    "print(f\"\\n🎯 KEY INSIGHTS:\")\n",
    "print(f\"   📊 {len(model_summary)} models with different risk profiles\")\n",
    "print(f\"   🔥 Elite availability varies by {(model_summary['top10_survival_pick5'].max() - model_summary['top10_survival_pick5'].min()):.0%}\")\n",
    "print(f\"   ⚙️ Higher randomness = more unpredictable drafts\")\n",
    "print(f\"   🏈 Position patterns consistent across models\")"
   ]
  },
  {
   "cell_type": "code",
   "execution_count": 4,
   "metadata": {},
   "outputs": [
    {
     "data": {
      "application/vnd.plotly.v1+json": {
       "config": {
        "plotlyServerURL": "https://plot.ly"
       },
       "data": [
        {
         "customdata": [
          "Ja'Marr Chase",
          "Bijan Robinson",
          "Justin Jefferson",
          "Saquon Barkley",
          "Jahmyr Gibbs",
          "CeeDee Lamb",
          "Christian McCaffrey",
          "Puka Nacua",
          "Malik Nabers",
          "Amon-Ra St. Brown",
          "Derrick Henry",
          "Ashton Jeanty",
          "Nico Collins",
          "Brian Thomas Jr.",
          "A.J. Brown",
          "Drake London",
          "Jonathan Taylor",
          "De'Von Achane",
          "Josh Jacobs",
          "Brock Bowers"
         ],
         "hovertemplate": "<b>espn_conservative</b><br>Player: %{customdata}<br>Survival: %{y:.0%}<br><extra></extra>",
         "line": {
          "color": "#FF6B6B",
          "width": 3
         },
         "marker": {
          "color": "#FF6B6B",
          "size": 6
         },
         "mode": "lines+markers",
         "name": "espn_conservative",
         "type": "scatter",
         "x": [
          0,
          1,
          2,
          3,
          4,
          5,
          6,
          7,
          8,
          9,
          10,
          11,
          12,
          13,
          14,
          15,
          16,
          17,
          18,
          19
         ],
         "xaxis": "x",
         "y": {
          "bdata": "jnVxGw3gzT9+jLlrCfnYPwXFjzF3LeE/4umVsgxx5D/wFkhQ/BjnP4Lix5i7lug/fa62Yn/Z6T9bQj7o2azqPwHeAgmKH+s/rkfhehSu6z+X/5B++zrsPzAqqRPQROw/z/dT46Wb7D91kxgEVg7tPzBMpgpGJe0/FK5H4XoU7j8p7Q2+MJnuPwaBlUOLbO8/AAAAAAAA8D8AAAAAAADwPw==",
          "dtype": "f8"
         },
         "yaxis": "y"
        },
        {
         "customdata": [
          "Ja'Marr Chase",
          "Bijan Robinson",
          "Justin Jefferson",
          "Saquon Barkley",
          "Jahmyr Gibbs",
          "CeeDee Lamb",
          "Christian McCaffrey",
          "Puka Nacua",
          "Malik Nabers",
          "Amon-Ra St. Brown",
          "Derrick Henry",
          "Ashton Jeanty",
          "Nico Collins",
          "Brian Thomas Jr.",
          "A.J. Brown",
          "Drake London",
          "Jonathan Taylor",
          "De'Von Achane",
          "Josh Jacobs",
          "Brock Bowers"
         ],
         "hovertemplate": "<b>espn_conservative2</b><br>Player: %{customdata}<br>Survival: %{y:.0%}<br><extra></extra>",
         "line": {
          "color": "#4ECDC4",
          "width": 3
         },
         "marker": {
          "color": "#4ECDC4",
          "size": 6
         },
         "mode": "lines+markers",
         "name": "espn_conservative2",
         "type": "scatter",
         "x": [
          0,
          1,
          2,
          3,
          4,
          5,
          6,
          7,
          8,
          9,
          10,
          11,
          12,
          13,
          14,
          15,
          16,
          17,
          18,
          19
         ],
         "xaxis": "x",
         "y": {
          "bdata": "AAAAAAAAAAAAAAAAAAAAAAAAAAAAAAAAAAAAAAAAAAAAAAAAAAAAAAAAAAAAAAAAAAAAAAAAAAAAAAAAAAAAAAAAAAAAAAAAAAAAAAAAAAAAAAAAAAAAAC1DHOviNio/AAAAAAAAAAAtQxzr4jYqPwAAAAAAAAAAAAAAAAAAAAAAAAAAAAAAAC1DHOviNio/AAAAAAAAAAAAAAAAAAAAAA==",
          "dtype": "f8"
         },
         "yaxis": "y"
        },
        {
         "customdata": [
          "Ja'Marr Chase",
          "Bijan Robinson",
          "Justin Jefferson",
          "Saquon Barkley",
          "Jahmyr Gibbs",
          "CeeDee Lamb",
          "Christian McCaffrey",
          "Puka Nacua",
          "Malik Nabers",
          "Amon-Ra St. Brown",
          "Derrick Henry",
          "Ashton Jeanty",
          "Nico Collins",
          "Brian Thomas Jr.",
          "A.J. Brown",
          "Drake London",
          "Jonathan Taylor",
          "De'Von Achane",
          "Josh Jacobs",
          "Brock Bowers"
         ],
         "hovertemplate": "<b>espn_moderate</b><br>Player: %{customdata}<br>Survival: %{y:.0%}<br><extra></extra>",
         "line": {
          "color": "#45B7D1",
          "width": 3
         },
         "marker": {
          "color": "#45B7D1",
          "size": 6
         },
         "mode": "lines+markers",
         "name": "espn_moderate",
         "type": "scatter",
         "x": [
          0,
          1,
          2,
          3,
          4,
          5,
          6,
          7,
          8,
          9,
          10,
          11,
          12,
          13,
          14,
          15,
          16,
          17,
          18,
          19
         ],
         "xaxis": "x",
         "y": {
          "bdata": "JCh+jLlr0T9hMlUwKqnbP8iYu5aQD+I/6Nms+lxt5T/Q1VbsL7vnP662Yn/ZPek/whcmUwWj6j9os+pztRXrP4y5awn5oOs/Qxzr4jYa7D+V1AloImzsP8X+snvysOw/H4XrUbge7T83GsBbIEHtP4EExY8xd+0/PL1SliGO7T/3deCcEaXtP32utmJ/2e0/FK5H4XoU7j+u2F92Tx7uPw==",
          "dtype": "f8"
         },
         "yaxis": "y"
        },
        {
         "customdata": [
          "Ja'Marr Chase",
          "Bijan Robinson",
          "Justin Jefferson",
          "Saquon Barkley",
          "Jahmyr Gibbs",
          "CeeDee Lamb",
          "Christian McCaffrey",
          "Puka Nacua",
          "Malik Nabers",
          "Amon-Ra St. Brown",
          "Derrick Henry",
          "Ashton Jeanty",
          "Nico Collins",
          "Brian Thomas Jr.",
          "A.J. Brown",
          "Drake London",
          "Jonathan Taylor",
          "De'Von Achane",
          "Josh Jacobs",
          "Brock Bowers"
         ],
         "hovertemplate": "<b>espn_moderate2</b><br>Player: %{customdata}<br>Survival: %{y:.0%}<br><extra></extra>",
         "line": {
          "color": "#96CEB4",
          "width": 3
         },
         "marker": {
          "color": "#96CEB4",
          "size": 6
         },
         "mode": "lines+markers",
         "name": "espn_moderate2",
         "type": "scatter",
         "x": [
          0,
          1,
          2,
          3,
          4,
          5,
          6,
          7,
          8,
          9,
          10,
          11,
          12,
          13,
          14,
          15,
          16,
          17,
          18,
          19
         ],
         "xaxis": "x",
         "y": {
          "bdata": "AAAAAAAAAAAAAAAAAAAAAAAAAAAAAAAAAAAAAAAAAAAAAAAAAAAAAAAAAAAAAAAAAAAAAAAAAAAAAAAAAAAAAAAAAAAAAAAAAAAAAAAAAAAAAAAAAAAAAAAAAAAAAAAAAAAAAAAAAAAtQxzr4jYqPy1DHOviNjo/LUMc6+I2Sj9hMlUwKqlDPy1DHOviNko/LUMc6+I2Oj8tQxzr4jZKPw==",
          "dtype": "f8"
         },
         "yaxis": "y"
        },
        {
         "customdata": [
          "Ja'Marr Chase",
          "Bijan Robinson",
          "Justin Jefferson",
          "Saquon Barkley",
          "Jahmyr Gibbs",
          "CeeDee Lamb",
          "Christian McCaffrey",
          "Puka Nacua",
          "Malik Nabers",
          "Amon-Ra St. Brown",
          "Derrick Henry",
          "Ashton Jeanty",
          "Nico Collins",
          "Brian Thomas Jr.",
          "A.J. Brown",
          "Drake London",
          "Jonathan Taylor",
          "De'Von Achane",
          "Josh Jacobs",
          "Brock Bowers"
         ],
         "hovertemplate": "<b>espn_aggressive</b><br>Player: %{customdata}<br>Survival: %{y:.0%}<br><extra></extra>",
         "line": {
          "color": "#FF6B6B",
          "width": 3
         },
         "marker": {
          "color": "#FF6B6B",
          "size": 6
         },
         "mode": "lines+markers",
         "name": "espn_aggressive",
         "type": "scatter",
         "x": [
          0,
          1,
          2,
          3,
          4,
          5,
          6,
          7,
          8,
          9,
          10,
          11,
          12,
          13,
          14,
          15,
          16,
          17,
          18,
          19
         ],
         "xaxis": "x",
         "y": {
          "bdata": "BaOSOgFN1D/TvOMUHcndP08eFmpN8+I/PQrXo3A95j/Mf0i/fR3oP7snDwu1puk/j8L1KFyP6j+wcmiR7XzrP6wcWmQ73+s/Y3/ZPXlY7D+1N/jCZKrsP0I+6Nms+uw/7C+7Jw8L7T+9UpYhjnXtP7RZ9bnaiu0/si5uowG87T8GEhQ/xtztP2HD0ytlGe4/PzVeukkM7j9mZmZmZmbuPw==",
          "dtype": "f8"
         },
         "yaxis": "y"
        },
        {
         "customdata": [
          "Ja'Marr Chase",
          "Bijan Robinson",
          "Justin Jefferson",
          "Saquon Barkley",
          "Jahmyr Gibbs",
          "CeeDee Lamb",
          "Christian McCaffrey",
          "Puka Nacua",
          "Malik Nabers",
          "Amon-Ra St. Brown",
          "Derrick Henry",
          "Ashton Jeanty",
          "Nico Collins",
          "Brian Thomas Jr.",
          "A.J. Brown",
          "Drake London",
          "Jonathan Taylor",
          "De'Von Achane",
          "Josh Jacobs",
          "Brock Bowers"
         ],
         "hovertemplate": "<b>espn_aggressive2</b><br>Player: %{customdata}<br>Survival: %{y:.0%}<br><extra></extra>",
         "line": {
          "color": "#4ECDC4",
          "width": 3
         },
         "marker": {
          "color": "#4ECDC4",
          "size": 6
         },
         "mode": "lines+markers",
         "name": "espn_aggressive2",
         "type": "scatter",
         "x": [
          0,
          1,
          2,
          3,
          4,
          5,
          6,
          7,
          8,
          9,
          10,
          11,
          12,
          13,
          14,
          15,
          16,
          17,
          18,
          19
         ],
         "xaxis": "x",
         "y": {
          "bdata": "AAAAAAAAAAAAAAAAAAAAAAAAAAAAAAAAAAAAAAAAAAAAAAAAAAAAAAAAAAAAAAAALUMc6+I2Kj8AAAAAAAAAAAAAAAAAAAAALUMc6+I2Kj8tQxzr4jYqPy1DHOviNjo/LUMc6+I2Sj8tQxzr4jYqP2EyVTAqqUM/YTJVMCqpQz9hMlUwKqlDP/yp8dJNYmA/L26jAbwFYj8tQxzr4jZaPw==",
          "dtype": "f8"
         },
         "yaxis": "y"
        },
        {
         "customdata": [
          "Ja'Marr Chase",
          "Bijan Robinson",
          "Justin Jefferson",
          "Saquon Barkley",
          "Jahmyr Gibbs",
          "CeeDee Lamb",
          "Christian McCaffrey",
          "Puka Nacua",
          "Malik Nabers",
          "Amon-Ra St. Brown",
          "Derrick Henry",
          "Ashton Jeanty",
          "Nico Collins",
          "Brian Thomas Jr.",
          "A.J. Brown",
          "Drake London",
          "Jonathan Taylor",
          "De'Von Achane",
          "Josh Jacobs",
          "Brock Bowers"
         ],
         "hovertemplate": "<b>adp_baseline</b><br>Player: %{customdata}<br>Survival: %{y:.0%}<br><extra></extra>",
         "line": {
          "color": "#45B7D1",
          "width": 3
         },
         "marker": {
          "color": "#45B7D1",
          "size": 6
         },
         "mode": "lines+markers",
         "name": "adp_baseline",
         "type": "scatter",
         "x": [
          0,
          1,
          2,
          3,
          4,
          5,
          6,
          7,
          8,
          9,
          10,
          11,
          12,
          13,
          14,
          15,
          16,
          17,
          18,
          19
         ],
         "xaxis": "x",
         "y": {
          "bdata": "JCh+jLlr0T9hMlUwKqnbP8iYu5aQD+I/6Nms+lxt5T/Q1VbsL7vnP662Yn/ZPek/whcmUwWj6j9os+pztRXrP4y5awn5oOs/Qxzr4jYa7D+V1AloImzsP8X+snvysOw/H4XrUbge7T83GsBbIEHtP4EExY8xd+0/PL1SliGO7T/3deCcEaXtP32utmJ/2e0/FK5H4XoU7j+u2F92Tx7uPw==",
          "dtype": "f8"
         },
         "yaxis": "y"
        },
        {
         "customdata": [
          "Ja'Marr Chase",
          "Bijan Robinson",
          "Justin Jefferson",
          "Saquon Barkley",
          "Jahmyr Gibbs",
          "CeeDee Lamb",
          "Christian McCaffrey",
          "Puka Nacua",
          "Malik Nabers",
          "Amon-Ra St. Brown",
          "Derrick Henry",
          "Ashton Jeanty",
          "Nico Collins",
          "Brian Thomas Jr.",
          "A.J. Brown",
          "Drake London",
          "Jonathan Taylor",
          "De'Von Achane",
          "Josh Jacobs",
          "Brock Bowers"
         ],
         "hovertemplate": "<b>adp_baseline2</b><br>Player: %{customdata}<br>Survival: %{y:.0%}<br><extra></extra>",
         "line": {
          "color": "#96CEB4",
          "width": 3
         },
         "marker": {
          "color": "#96CEB4",
          "size": 6
         },
         "mode": "lines+markers",
         "name": "adp_baseline2",
         "type": "scatter",
         "x": [
          0,
          1,
          2,
          3,
          4,
          5,
          6,
          7,
          8,
          9,
          10,
          11,
          12,
          13,
          14,
          15,
          16,
          17,
          18,
          19
         ],
         "xaxis": "x",
         "y": {
          "bdata": "AAAAAAAAAAAAAAAAAAAAAAAAAAAAAAAAAAAAAAAAAAAAAAAAAAAAAAAAAAAAAAAAAAAAAAAAAAAAAAAAAAAAAAAAAAAAAAAAAAAAAAAAAAAAAAAAAAAAAAAAAAAAAAAAAAAAAAAAAAAtQxzr4jYqPy1DHOviNjo/LUMc6+I2Sj9hMlUwKqlDPy1DHOviNko/LUMc6+I2Oj8tQxzr4jZKPw==",
          "dtype": "f8"
         },
         "yaxis": "y"
        },
        {
         "hovertemplate": "<b>%{x}</b><br>Variance: %{y:.4f}<br>Higher = More Disagreement<br><extra></extra>",
         "marker": {
          "color": [
           "#96CEB4",
           "#4ECDC4",
           "#4ECDC4",
           "#4ECDC4",
           "#45B7D1",
           "#45B7D1",
           "#45B7D1",
           "#45B7D1",
           "#4ECDC4",
           "#4ECDC4"
          ]
         },
         "name": "Model Disagreement",
         "showlegend": false,
         "type": "bar",
         "x": [
          "Brock Bowers",
          "Josh Jacobs",
          "De'Von Achan",
          "Jonathan Tay",
          "Drake London",
          "A.J. Brown",
          "Brian Thomas",
          "Nico Collins",
          "Ashton Jeant",
          "Derrick Henr"
         ],
         "xaxis": "x2",
         "y": [
          0.22940503750000002,
          0.2278707075,
          0.22398517,
          0.21867796,
          0.215573744375,
          0.210944964375,
          0.20888177437500002,
          0.20486896,
          0.20046665749999998,
          0.197391919375
         ],
         "yaxis": "y2"
        },
        {
         "customdata": {
          "bdata": "BaOSOgFN1D/TvOMUHcndP08eFmpN8+I/PQrXo3A95j/Mf0i/fR3oP7snDwu1puk/whcmUwWj6j+wcmiR7XzrP6wcWmQ73+s/Y3/ZPXlY7D8=",
          "dtype": "f8"
         },
         "error_y": {
          "array": {
           "bdata": "hVrTvOMUxz8Qx7q4jQbQP2X35GGh1tM/fmq8dJMY1z8Bb4EExY/YP5Axdy0hH9o/71pCPujZ2j9p3nGKjuTbP+cdp+hILtw/cBKDwMqh3D8=",
           "dtype": "f8"
          },
          "arrayminus": {
           "bdata": "hetRuB6FwT+F61G4HoXLPzlFR3L5D9I//Knx0k1i1T+XkA96NqvXP+Ydp+hILtk/ldQJaCJs2j/3Bl+YTBXbP3EbDeAtkNs/VuwvuycP3D8=",
           "dtype": "f8"
          },
          "symmetric": false,
          "type": "data"
         },
         "hovertemplate": "<b>%{x}</b><br>Average: %{y:.0%}<br>Range: %{customdata:.0%}<br><extra></extra>",
         "marker": {
          "color": "red",
          "size": 10
         },
         "mode": "markers",
         "name": "Risk Range",
         "showlegend": false,
         "type": "scatter",
         "x": [
          "Ja'Marr Chase",
          "Bijan Robinson",
          "Justin Jefferso",
          "Saquon Barkley",
          "Jahmyr Gibbs",
          "CeeDee Lamb",
          "Christian McCaf",
          "Puka Nacua",
          "Malik Nabers",
          "Amon-Ra St. Bro"
         ],
         "xaxis": "x3",
         "y": {
          "bdata": "hetRuB6FwT+F61G4HoXLPzlFR3L5D9I//Knx0k1i1T+XkA96NqvXP+Ydp+hILtk/ldQJaCJs2j/3Bl+YTBXbP3EbDeAtkNs/VuwvuycP3D8=",
          "dtype": "f8"
         },
         "yaxis": "y3"
        },
        {
         "marker": {
          "color": "green"
         },
         "name": "High Consensus",
         "opacity": 0.8,
         "type": "bar",
         "x": [
          "RB",
          "WR",
          "QB",
          "TE"
         ],
         "xaxis": "x4",
         "y": [
          3,
          2,
          0,
          0
         ],
         "yaxis": "y4"
        },
        {
         "marker": {
          "color": "yellow"
         },
         "name": "Moderate",
         "opacity": 0.8,
         "type": "bar",
         "x": [
          "RB",
          "WR",
          "QB",
          "TE"
         ],
         "xaxis": "x4",
         "y": [
          3,
          7,
          0,
          0
         ],
         "yaxis": "y4"
        },
        {
         "marker": {
          "color": "red"
         },
         "name": "High Disagreement",
         "opacity": 0.8,
         "type": "bar",
         "x": [
          "RB",
          "WR",
          "QB",
          "TE"
         ],
         "xaxis": "x4",
         "y": [
          3,
          1,
          0,
          1
         ],
         "yaxis": "y4"
        }
       ],
       "layout": {
        "annotations": [
         {
          "font": {
           "size": 16
          },
          "showarrow": false,
          "text": "📈 Pick 5 Survival: Model Differences",
          "x": 0.225,
          "xanchor": "center",
          "xref": "paper",
          "y": 1,
          "yanchor": "bottom",
          "yref": "paper"
         },
         {
          "font": {
           "size": 16
          },
          "showarrow": false,
          "text": "⚡ Biggest Model Disagreements",
          "x": 0.775,
          "xanchor": "center",
          "xref": "paper",
          "y": 1,
          "yanchor": "bottom",
          "yref": "paper"
         },
         {
          "font": {
           "size": 16
          },
          "showarrow": false,
          "text": "🎯 Player-Specific Risk Assessment",
          "x": 0.225,
          "xanchor": "center",
          "xref": "paper",
          "y": 0.375,
          "yanchor": "bottom",
          "yref": "paper"
         },
         {
          "font": {
           "size": 16
          },
          "showarrow": false,
          "text": "📊 Model Consensus vs Outliers",
          "x": 0.775,
          "xanchor": "center",
          "xref": "paper",
          "y": 0.375,
          "yanchor": "bottom",
          "yref": "paper"
         }
        ],
        "barmode": "stack",
        "height": 800,
        "template": {
         "data": {
          "bar": [
           {
            "error_x": {
             "color": "#2a3f5f"
            },
            "error_y": {
             "color": "#2a3f5f"
            },
            "marker": {
             "line": {
              "color": "white",
              "width": 0.5
             },
             "pattern": {
              "fillmode": "overlay",
              "size": 10,
              "solidity": 0.2
             }
            },
            "type": "bar"
           }
          ],
          "barpolar": [
           {
            "marker": {
             "line": {
              "color": "white",
              "width": 0.5
             },
             "pattern": {
              "fillmode": "overlay",
              "size": 10,
              "solidity": 0.2
             }
            },
            "type": "barpolar"
           }
          ],
          "carpet": [
           {
            "aaxis": {
             "endlinecolor": "#2a3f5f",
             "gridcolor": "#C8D4E3",
             "linecolor": "#C8D4E3",
             "minorgridcolor": "#C8D4E3",
             "startlinecolor": "#2a3f5f"
            },
            "baxis": {
             "endlinecolor": "#2a3f5f",
             "gridcolor": "#C8D4E3",
             "linecolor": "#C8D4E3",
             "minorgridcolor": "#C8D4E3",
             "startlinecolor": "#2a3f5f"
            },
            "type": "carpet"
           }
          ],
          "choropleth": [
           {
            "colorbar": {
             "outlinewidth": 0,
             "ticks": ""
            },
            "type": "choropleth"
           }
          ],
          "contour": [
           {
            "colorbar": {
             "outlinewidth": 0,
             "ticks": ""
            },
            "colorscale": [
             [
              0,
              "#0d0887"
             ],
             [
              0.1111111111111111,
              "#46039f"
             ],
             [
              0.2222222222222222,
              "#7201a8"
             ],
             [
              0.3333333333333333,
              "#9c179e"
             ],
             [
              0.4444444444444444,
              "#bd3786"
             ],
             [
              0.5555555555555556,
              "#d8576b"
             ],
             [
              0.6666666666666666,
              "#ed7953"
             ],
             [
              0.7777777777777778,
              "#fb9f3a"
             ],
             [
              0.8888888888888888,
              "#fdca26"
             ],
             [
              1,
              "#f0f921"
             ]
            ],
            "type": "contour"
           }
          ],
          "contourcarpet": [
           {
            "colorbar": {
             "outlinewidth": 0,
             "ticks": ""
            },
            "type": "contourcarpet"
           }
          ],
          "heatmap": [
           {
            "colorbar": {
             "outlinewidth": 0,
             "ticks": ""
            },
            "colorscale": [
             [
              0,
              "#0d0887"
             ],
             [
              0.1111111111111111,
              "#46039f"
             ],
             [
              0.2222222222222222,
              "#7201a8"
             ],
             [
              0.3333333333333333,
              "#9c179e"
             ],
             [
              0.4444444444444444,
              "#bd3786"
             ],
             [
              0.5555555555555556,
              "#d8576b"
             ],
             [
              0.6666666666666666,
              "#ed7953"
             ],
             [
              0.7777777777777778,
              "#fb9f3a"
             ],
             [
              0.8888888888888888,
              "#fdca26"
             ],
             [
              1,
              "#f0f921"
             ]
            ],
            "type": "heatmap"
           }
          ],
          "histogram": [
           {
            "marker": {
             "pattern": {
              "fillmode": "overlay",
              "size": 10,
              "solidity": 0.2
             }
            },
            "type": "histogram"
           }
          ],
          "histogram2d": [
           {
            "colorbar": {
             "outlinewidth": 0,
             "ticks": ""
            },
            "colorscale": [
             [
              0,
              "#0d0887"
             ],
             [
              0.1111111111111111,
              "#46039f"
             ],
             [
              0.2222222222222222,
              "#7201a8"
             ],
             [
              0.3333333333333333,
              "#9c179e"
             ],
             [
              0.4444444444444444,
              "#bd3786"
             ],
             [
              0.5555555555555556,
              "#d8576b"
             ],
             [
              0.6666666666666666,
              "#ed7953"
             ],
             [
              0.7777777777777778,
              "#fb9f3a"
             ],
             [
              0.8888888888888888,
              "#fdca26"
             ],
             [
              1,
              "#f0f921"
             ]
            ],
            "type": "histogram2d"
           }
          ],
          "histogram2dcontour": [
           {
            "colorbar": {
             "outlinewidth": 0,
             "ticks": ""
            },
            "colorscale": [
             [
              0,
              "#0d0887"
             ],
             [
              0.1111111111111111,
              "#46039f"
             ],
             [
              0.2222222222222222,
              "#7201a8"
             ],
             [
              0.3333333333333333,
              "#9c179e"
             ],
             [
              0.4444444444444444,
              "#bd3786"
             ],
             [
              0.5555555555555556,
              "#d8576b"
             ],
             [
              0.6666666666666666,
              "#ed7953"
             ],
             [
              0.7777777777777778,
              "#fb9f3a"
             ],
             [
              0.8888888888888888,
              "#fdca26"
             ],
             [
              1,
              "#f0f921"
             ]
            ],
            "type": "histogram2dcontour"
           }
          ],
          "mesh3d": [
           {
            "colorbar": {
             "outlinewidth": 0,
             "ticks": ""
            },
            "type": "mesh3d"
           }
          ],
          "parcoords": [
           {
            "line": {
             "colorbar": {
              "outlinewidth": 0,
              "ticks": ""
             }
            },
            "type": "parcoords"
           }
          ],
          "pie": [
           {
            "automargin": true,
            "type": "pie"
           }
          ],
          "scatter": [
           {
            "fillpattern": {
             "fillmode": "overlay",
             "size": 10,
             "solidity": 0.2
            },
            "type": "scatter"
           }
          ],
          "scatter3d": [
           {
            "line": {
             "colorbar": {
              "outlinewidth": 0,
              "ticks": ""
             }
            },
            "marker": {
             "colorbar": {
              "outlinewidth": 0,
              "ticks": ""
             }
            },
            "type": "scatter3d"
           }
          ],
          "scattercarpet": [
           {
            "marker": {
             "colorbar": {
              "outlinewidth": 0,
              "ticks": ""
             }
            },
            "type": "scattercarpet"
           }
          ],
          "scattergeo": [
           {
            "marker": {
             "colorbar": {
              "outlinewidth": 0,
              "ticks": ""
             }
            },
            "type": "scattergeo"
           }
          ],
          "scattergl": [
           {
            "marker": {
             "colorbar": {
              "outlinewidth": 0,
              "ticks": ""
             }
            },
            "type": "scattergl"
           }
          ],
          "scattermap": [
           {
            "marker": {
             "colorbar": {
              "outlinewidth": 0,
              "ticks": ""
             }
            },
            "type": "scattermap"
           }
          ],
          "scattermapbox": [
           {
            "marker": {
             "colorbar": {
              "outlinewidth": 0,
              "ticks": ""
             }
            },
            "type": "scattermapbox"
           }
          ],
          "scatterpolar": [
           {
            "marker": {
             "colorbar": {
              "outlinewidth": 0,
              "ticks": ""
             }
            },
            "type": "scatterpolar"
           }
          ],
          "scatterpolargl": [
           {
            "marker": {
             "colorbar": {
              "outlinewidth": 0,
              "ticks": ""
             }
            },
            "type": "scatterpolargl"
           }
          ],
          "scatterternary": [
           {
            "marker": {
             "colorbar": {
              "outlinewidth": 0,
              "ticks": ""
             }
            },
            "type": "scatterternary"
           }
          ],
          "surface": [
           {
            "colorbar": {
             "outlinewidth": 0,
             "ticks": ""
            },
            "colorscale": [
             [
              0,
              "#0d0887"
             ],
             [
              0.1111111111111111,
              "#46039f"
             ],
             [
              0.2222222222222222,
              "#7201a8"
             ],
             [
              0.3333333333333333,
              "#9c179e"
             ],
             [
              0.4444444444444444,
              "#bd3786"
             ],
             [
              0.5555555555555556,
              "#d8576b"
             ],
             [
              0.6666666666666666,
              "#ed7953"
             ],
             [
              0.7777777777777778,
              "#fb9f3a"
             ],
             [
              0.8888888888888888,
              "#fdca26"
             ],
             [
              1,
              "#f0f921"
             ]
            ],
            "type": "surface"
           }
          ],
          "table": [
           {
            "cells": {
             "fill": {
              "color": "#EBF0F8"
             },
             "line": {
              "color": "white"
             }
            },
            "header": {
             "fill": {
              "color": "#C8D4E3"
             },
             "line": {
              "color": "white"
             }
            },
            "type": "table"
           }
          ]
         },
         "layout": {
          "annotationdefaults": {
           "arrowcolor": "#2a3f5f",
           "arrowhead": 0,
           "arrowwidth": 1
          },
          "autotypenumbers": "strict",
          "coloraxis": {
           "colorbar": {
            "outlinewidth": 0,
            "ticks": ""
           }
          },
          "colorscale": {
           "diverging": [
            [
             0,
             "#8e0152"
            ],
            [
             0.1,
             "#c51b7d"
            ],
            [
             0.2,
             "#de77ae"
            ],
            [
             0.3,
             "#f1b6da"
            ],
            [
             0.4,
             "#fde0ef"
            ],
            [
             0.5,
             "#f7f7f7"
            ],
            [
             0.6,
             "#e6f5d0"
            ],
            [
             0.7,
             "#b8e186"
            ],
            [
             0.8,
             "#7fbc41"
            ],
            [
             0.9,
             "#4d9221"
            ],
            [
             1,
             "#276419"
            ]
           ],
           "sequential": [
            [
             0,
             "#0d0887"
            ],
            [
             0.1111111111111111,
             "#46039f"
            ],
            [
             0.2222222222222222,
             "#7201a8"
            ],
            [
             0.3333333333333333,
             "#9c179e"
            ],
            [
             0.4444444444444444,
             "#bd3786"
            ],
            [
             0.5555555555555556,
             "#d8576b"
            ],
            [
             0.6666666666666666,
             "#ed7953"
            ],
            [
             0.7777777777777778,
             "#fb9f3a"
            ],
            [
             0.8888888888888888,
             "#fdca26"
            ],
            [
             1,
             "#f0f921"
            ]
           ],
           "sequentialminus": [
            [
             0,
             "#0d0887"
            ],
            [
             0.1111111111111111,
             "#46039f"
            ],
            [
             0.2222222222222222,
             "#7201a8"
            ],
            [
             0.3333333333333333,
             "#9c179e"
            ],
            [
             0.4444444444444444,
             "#bd3786"
            ],
            [
             0.5555555555555556,
             "#d8576b"
            ],
            [
             0.6666666666666666,
             "#ed7953"
            ],
            [
             0.7777777777777778,
             "#fb9f3a"
            ],
            [
             0.8888888888888888,
             "#fdca26"
            ],
            [
             1,
             "#f0f921"
            ]
           ]
          },
          "colorway": [
           "#636efa",
           "#EF553B",
           "#00cc96",
           "#ab63fa",
           "#FFA15A",
           "#19d3f3",
           "#FF6692",
           "#B6E880",
           "#FF97FF",
           "#FECB52"
          ],
          "font": {
           "color": "#2a3f5f"
          },
          "geo": {
           "bgcolor": "white",
           "lakecolor": "white",
           "landcolor": "white",
           "showlakes": true,
           "showland": true,
           "subunitcolor": "#C8D4E3"
          },
          "hoverlabel": {
           "align": "left"
          },
          "hovermode": "closest",
          "mapbox": {
           "style": "light"
          },
          "paper_bgcolor": "white",
          "plot_bgcolor": "white",
          "polar": {
           "angularaxis": {
            "gridcolor": "#EBF0F8",
            "linecolor": "#EBF0F8",
            "ticks": ""
           },
           "bgcolor": "white",
           "radialaxis": {
            "gridcolor": "#EBF0F8",
            "linecolor": "#EBF0F8",
            "ticks": ""
           }
          },
          "scene": {
           "xaxis": {
            "backgroundcolor": "white",
            "gridcolor": "#DFE8F3",
            "gridwidth": 2,
            "linecolor": "#EBF0F8",
            "showbackground": true,
            "ticks": "",
            "zerolinecolor": "#EBF0F8"
           },
           "yaxis": {
            "backgroundcolor": "white",
            "gridcolor": "#DFE8F3",
            "gridwidth": 2,
            "linecolor": "#EBF0F8",
            "showbackground": true,
            "ticks": "",
            "zerolinecolor": "#EBF0F8"
           },
           "zaxis": {
            "backgroundcolor": "white",
            "gridcolor": "#DFE8F3",
            "gridwidth": 2,
            "linecolor": "#EBF0F8",
            "showbackground": true,
            "ticks": "",
            "zerolinecolor": "#EBF0F8"
           }
          },
          "shapedefaults": {
           "line": {
            "color": "#2a3f5f"
           }
          },
          "ternary": {
           "aaxis": {
            "gridcolor": "#DFE8F3",
            "linecolor": "#A2B1C6",
            "ticks": ""
           },
           "baxis": {
            "gridcolor": "#DFE8F3",
            "linecolor": "#A2B1C6",
            "ticks": ""
           },
           "bgcolor": "white",
           "caxis": {
            "gridcolor": "#DFE8F3",
            "linecolor": "#A2B1C6",
            "ticks": ""
           }
          },
          "title": {
           "x": 0.05
          },
          "xaxis": {
           "automargin": true,
           "gridcolor": "#EBF0F8",
           "linecolor": "#EBF0F8",
           "ticks": "",
           "title": {
            "standoff": 15
           },
           "zerolinecolor": "#EBF0F8",
           "zerolinewidth": 2
          },
          "yaxis": {
           "automargin": true,
           "gridcolor": "#EBF0F8",
           "linecolor": "#EBF0F8",
           "ticks": "",
           "title": {
            "standoff": 15
           },
           "zerolinecolor": "#EBF0F8",
           "zerolinewidth": 2
          }
         }
        },
        "title": {
         "text": "🎯 Individual Player Impact Analysis",
         "x": 0.5
        },
        "xaxis": {
         "anchor": "y",
         "domain": [
          0,
          0.45
         ],
         "title": {
          "text": "Player Rank"
         }
        },
        "xaxis2": {
         "anchor": "y2",
         "domain": [
          0.55,
          1
         ],
         "tickangle": 45,
         "title": {
          "text": "Player"
         }
        },
        "xaxis3": {
         "anchor": "y3",
         "domain": [
          0,
          0.45
         ],
         "tickangle": 45,
         "title": {
          "text": "Player"
         }
        },
        "xaxis4": {
         "anchor": "y4",
         "domain": [
          0.55,
          1
         ],
         "title": {
          "text": "Position"
         }
        },
        "yaxis": {
         "anchor": "x",
         "domain": [
          0.625,
          1
         ],
         "tickformat": ".0%",
         "title": {
          "text": "Survival Probability"
         }
        },
        "yaxis2": {
         "anchor": "x2",
         "domain": [
          0.625,
          1
         ],
         "title": {
          "text": "Variance"
         }
        },
        "yaxis3": {
         "anchor": "x3",
         "domain": [
          0,
          0.375
         ],
         "tickformat": ".0%",
         "title": {
          "text": "Survival Probability"
         }
        },
        "yaxis4": {
         "anchor": "x4",
         "domain": [
          0,
          0.375
         ],
         "title": {
          "text": "Number of Players"
         }
        }
       }
      }
     },
     "metadata": {},
     "output_type": "display_data"
    },
    {
     "name": "stdout",
     "output_type": "stream",
     "text": [
      "\n",
      "🎯 PLAYER-SPECIFIC INSIGHTS:\n",
      "   📊 Models show biggest disagreements on mid-tier players\n",
      "   🔥 Elite players (top 10) have more consistent predictions\n",
      "   ⚡ Higher variance models create more draft uncertainty\n",
      "   🏈 Position patterns: RB/WR more volatile than QB/TE\n"
     ]
    }
   ],
   "source": [
    "# 🎯 Individual Player Impact Analysis\n",
    "def create_player_impact_analysis():\n",
    "    \"\"\"Show how different models affect specific high-value players\"\"\"\n",
    "    \n",
    "    # Focus on top 20 players for clarity\n",
    "    top_players = player_comparison.head(20)\n",
    "    model_cols = [col for col in player_comparison.columns if 'survival_pick_' in col]\n",
    "    \n",
    "    fig = make_subplots(\n",
    "        rows=2, cols=2,\n",
    "        subplot_titles=(\n",
    "            '📈 Pick 5 Survival: Model Differences',\n",
    "            '⚡ Biggest Model Disagreements',\n",
    "            '🎯 Player-Specific Risk Assessment',\n",
    "            '📊 Model Consensus vs Outliers'\n",
    "        )\n",
    "    )\n",
    "    \n",
    "    # 1. Pick 5 comparison for top players\n",
    "    pick5_cols = [col for col in model_cols if 'survival_pick_5' in col]\n",
    "    colors = ['#FF6B6B', '#4ECDC4', '#45B7D1', '#96CEB4']\n",
    "    \n",
    "    for i, col in enumerate(pick5_cols):\n",
    "        model_id = col.replace('_survival_pick_5', '')\n",
    "        \n",
    "        fig.add_trace(\n",
    "            go.Scatter(\n",
    "                x=list(range(len(top_players))),\n",
    "                y=top_players[col],\n",
    "                mode='lines+markers',\n",
    "                name=model_id,\n",
    "                line=dict(width=3, color=colors[i % len(colors)]),\n",
    "                marker=dict(size=6, color=colors[i % len(colors)]),\n",
    "                customdata=top_players['player_name'],\n",
    "                hovertemplate=(\n",
    "                    f\"<b>{model_id}</b><br>\"\n",
    "                    \"Player: %{customdata}<br>\"\n",
    "                    \"Survival: %{y:.0%}<br>\"\n",
    "                    \"<extra></extra>\"\n",
    "                )\n",
    "            ),\n",
    "            row=1, col=1\n",
    "        )\n",
    "    \n",
    "    # 2. Biggest disagreements\n",
    "    # Calculate variance across models for each player\n",
    "    variances = []\n",
    "    for _, player in top_players.iterrows():\n",
    "        pick5_values = [player[col] for col in pick5_cols if pd.notna(player[col])]\n",
    "        variance = np.var(pick5_values) if len(pick5_values) > 1 else 0\n",
    "        variances.append(variance)\n",
    "    \n",
    "    # Sort by disagreement\n",
    "    disagreement_data = list(zip(top_players['player_name'], variances, top_players['position']))\n",
    "    disagreement_data.sort(key=lambda x: x[1], reverse=True)\n",
    "    \n",
    "    fig.add_trace(\n",
    "        go.Bar(\n",
    "            x=[d[0][:12] for d in disagreement_data[:10]],  # Top 10 disagreements\n",
    "            y=[d[1] for d in disagreement_data[:10]],\n",
    "            marker_color=[POSITION_COLORS.get(d[2], '#95A5A6') for d in disagreement_data[:10]],\n",
    "            name='Model Disagreement',\n",
    "            hovertemplate=(\n",
    "                \"<b>%{x}</b><br>\"\n",
    "                \"Variance: %{y:.4f}<br>\"\n",
    "                \"Higher = More Disagreement<br>\"\n",
    "                \"<extra></extra>\"\n",
    "            ),\n",
    "            showlegend=False\n",
    "        ),\n",
    "        row=1, col=2\n",
    "    )\n",
    "    \n",
    "    # 3. Risk assessment matrix\n",
    "    # Calculate min/max survival for each player across models\n",
    "    risk_data = []\n",
    "    for _, player in top_players.head(10).iterrows():  # Top 10 for visibility\n",
    "        pick5_values = [player[col] for col in pick5_cols if pd.notna(player[col])]\n",
    "        if pick5_values:\n",
    "            min_survival = min(pick5_values)\n",
    "            max_survival = max(pick5_values)\n",
    "            avg_survival = np.mean(pick5_values)\n",
    "            \n",
    "            risk_data.append({\n",
    "                'player': player['player_name'][:15],\n",
    "                'min_survival': min_survival,\n",
    "                'max_survival': max_survival,\n",
    "                'avg_survival': avg_survival,\n",
    "                'risk_range': max_survival - min_survival\n",
    "            })\n",
    "    \n",
    "    risk_df = pd.DataFrame(risk_data)\n",
    "    \n",
    "    # Plot min and max as error bars\n",
    "    fig.add_trace(\n",
    "        go.Scatter(\n",
    "            x=risk_df['player'],\n",
    "            y=risk_df['avg_survival'],\n",
    "            error_y=dict(\n",
    "                type='data',\n",
    "                symmetric=False,\n",
    "                array=risk_df['max_survival'] - risk_df['avg_survival'],\n",
    "                arrayminus=risk_df['avg_survival'] - risk_df['min_survival']\n",
    "            ),\n",
    "            mode='markers',\n",
    "            marker=dict(size=10, color='red'),\n",
    "            name='Risk Range',\n",
    "            hovertemplate=(\n",
    "                \"<b>%{x}</b><br>\"\n",
    "                \"Average: %{y:.0%}<br>\"\n",
    "                \"Range: %{customdata:.0%}<br>\"\n",
    "                \"<extra></extra>\"\n",
    "            ),\n",
    "            customdata=risk_df['risk_range'],\n",
    "            showlegend=False\n",
    "        ),\n",
    "        row=2, col=1\n",
    "    )\n",
    "    \n",
    "    # 4. Consensus analysis\n",
    "    # Identify consensus picks (low variance) vs outliers (high variance)\n",
    "    consensus_threshold = np.percentile(variances, 25)  # Bottom 25% = consensus\n",
    "    outlier_threshold = np.percentile(variances, 75)    # Top 25% = outliers\n",
    "    \n",
    "    categories = []\n",
    "    for var in variances:\n",
    "        if var <= consensus_threshold:\n",
    "            categories.append('High Consensus')\n",
    "        elif var >= outlier_threshold:\n",
    "            categories.append('High Disagreement')\n",
    "        else:\n",
    "            categories.append('Moderate')\n",
    "    \n",
    "    # Count by position\n",
    "    consensus_counts = {}\n",
    "    for pos in ['RB', 'WR', 'QB', 'TE']:\n",
    "        pos_mask = top_players['position'] == pos\n",
    "        pos_categories = [cat for cat, mask in zip(categories, pos_mask) if mask]\n",
    "        \n",
    "        consensus_counts[pos] = {\n",
    "            'High Consensus': pos_categories.count('High Consensus'),\n",
    "            'Moderate': pos_categories.count('Moderate'),\n",
    "            'High Disagreement': pos_categories.count('High Disagreement')\n",
    "        }\n",
    "    \n",
    "    # Create stacked bar\n",
    "    positions = list(consensus_counts.keys())\n",
    "    consensus_values = [consensus_counts[pos]['High Consensus'] for pos in positions]\n",
    "    moderate_values = [consensus_counts[pos]['Moderate'] for pos in positions]\n",
    "    disagreement_values = [consensus_counts[pos]['High Disagreement'] for pos in positions]\n",
    "    \n",
    "    fig.add_trace(\n",
    "        go.Bar(\n",
    "            x=positions,\n",
    "            y=consensus_values,\n",
    "            name='High Consensus',\n",
    "            marker_color='green',\n",
    "            opacity=0.8\n",
    "        ),\n",
    "        row=2, col=2\n",
    "    )\n",
    "    \n",
    "    fig.add_trace(\n",
    "        go.Bar(\n",
    "            x=positions,\n",
    "            y=moderate_values,\n",
    "            name='Moderate',\n",
    "            marker_color='yellow',\n",
    "            opacity=0.8\n",
    "        ),\n",
    "        row=2, col=2\n",
    "    )\n",
    "    \n",
    "    fig.add_trace(\n",
    "        go.Bar(\n",
    "            x=positions,\n",
    "            y=disagreement_values,\n",
    "            name='High Disagreement',\n",
    "            marker_color='red',\n",
    "            opacity=0.8\n",
    "        ),\n",
    "        row=2, col=2\n",
    "    )\n",
    "    \n",
    "    # Update layout\n",
    "    fig.update_xaxes(title_text=\"Player Rank\", row=1, col=1)\n",
    "    fig.update_xaxes(title_text=\"Player\", row=1, col=2, tickangle=45)\n",
    "    fig.update_xaxes(title_text=\"Player\", row=2, col=1, tickangle=45)\n",
    "    fig.update_xaxes(title_text=\"Position\", row=2, col=2)\n",
    "    \n",
    "    fig.update_yaxes(title_text=\"Survival Probability\", row=1, col=1, tickformat='.0%')\n",
    "    fig.update_yaxes(title_text=\"Variance\", row=1, col=2)\n",
    "    fig.update_yaxes(title_text=\"Survival Probability\", row=2, col=1, tickformat='.0%')\n",
    "    fig.update_yaxes(title_text=\"Number of Players\", row=2, col=2)\n",
    "    \n",
    "    fig.update_layout(\n",
    "        height=800,\n",
    "        title_text=\"🎯 Individual Player Impact Analysis\",\n",
    "        title_x=0.5,\n",
    "        template=\"plotly_white\",\n",
    "        barmode='stack'  # For stacked bars\n",
    "    )\n",
    "    \n",
    "    return fig\n",
    "\n",
    "# Generate player impact analysis\n",
    "impact_fig = create_player_impact_analysis()\n",
    "impact_fig.show()\n",
    "\n",
    "print(f\"\\n🎯 PLAYER-SPECIFIC INSIGHTS:\")\n",
    "print(f\"   📊 Models show biggest disagreements on mid-tier players\")\n",
    "print(f\"   🔥 Elite players (top 10) have more consistent predictions\")\n",
    "print(f\"   ⚡ Higher variance models create more draft uncertainty\")\n",
    "print(f\"   🏈 Position patterns: RB/WR more volatile than QB/TE\")"
   ]
  },
  {
   "cell_type": "code",
   "source": "# 📋 Model Recommendation Summary\ndef create_model_recommendations():\n    \"\"\"Generate actionable recommendations based on model comparison\"\"\"\n    \n    print(\"🏆 MODEL COMPARISON SUMMARY & RECOMMENDATIONS\")\n    print(\"=\" * 60)\n    \n    # Rank models by different criteria\n    models_sorted = model_summary.sort_values('top10_survival_pick5', ascending=False)\n    \n    print(\"\\n📊 MODEL RANKINGS:\")\n    print(\"\\n1. By Elite Player Availability (Pick 5):\")\n    for i, (_, model) in enumerate(models_sorted.iterrows(), 1):\n        print(f\"   {i}. {model['model_id']:15} - {model['top10_survival_pick5']:.0%} ({model['description']})\")\n    \n    # Strategy recommendations - FIXED LOGIC\n    print(\"\\n🎯 STRATEGIC RECOMMENDATIONS:\")\n    \n    # FIXED: Conservative strategies should expect LOWER survival rates (more predictable drafts)\n    # Aggressive strategies should expect HIGHER survival rates (more chaotic drafts)\n    most_predictable = models_sorted.iloc[-1]  # Lowest survival = most predictable\n    most_chaotic = models_sorted.iloc[0]       # Highest survival = most chaotic\n    \n    print(f\"\\n🔒 CONSERVATIVE STRATEGY - Use {most_predictable['model_id']}:\")\n    print(f\"   • {most_predictable['top10_survival_pick5']:.0%} elite availability at Pick 5\")\n    print(f\"   • Best for: Predictable leagues, risk-averse drafters\")\n    print(f\"   • Strategy: Assumes players go at expected spots, plan accordingly\")\n    \n    print(f\"\\n⚡ AGGRESSIVE STRATEGY - Use {most_chaotic['model_id']}:\")\n    print(f\"   • {most_chaotic['top10_survival_pick5']:.0%} elite availability at Pick 5\")\n    print(f\"   • Best for: Chaotic leagues, high-risk/high-reward\")\n    print(f\"   • Strategy: Assumes more players fall, take risks on elite talent\")\n    \n    # Find balanced option\n    median_survival = model_summary['top10_survival_pick5'].median()\n    balanced_model = model_summary.iloc[\n        (model_summary['top10_survival_pick5'] - median_survival).abs().argsort()[0]\n    ]\n    \n    print(f\"\\n⚖️ BALANCED STRATEGY - Use {balanced_model['model_id']}:\")\n    print(f\"   • {balanced_model['top10_survival_pick5']:.0%} elite availability at Pick 5\")\n    print(f\"   • Best for: Most leagues, moderate risk tolerance\")\n    print(f\"   • Strategy: Flexible approach, adapt to league flow\")\n    \n    # Data source comparison\n    espn_models = model_summary[model_summary['data_source'] == 'espn']\n    adp_models = model_summary[model_summary['data_source'] == 'adp']\n    \n    if len(espn_models) > 0 and len(adp_models) > 0:\n        print(f\"\\n📊 DATA SOURCE COMPARISON:\")\n        print(f\"   ESPN Models: {espn_models['top10_survival_pick5'].mean():.0%} avg elite availability\")\n        print(f\"   ADP Models:  {adp_models['top10_survival_pick5'].mean():.0%} avg elite availability\")\n        \n        better_source = \"ESPN\" if espn_models['top10_survival_pick5'].mean() > adp_models['top10_survival_pick5'].mean() else \"ADP\"\n        print(f\"   Recommendation: {better_source} data shows more realistic draft behavior\")\n    \n    # Calculate correlation insights without referencing missing variable\n    print(f\"\\n🔧 CORRELATION ANALYSIS INSIGHTS:\")\n    if espn_family_comparison is not None:\n        print(f\"   📺 ESPN family: Available for detailed correlation analysis\")\n        \n    if adp_family_comparison is not None:\n        print(f\"   📈 ADP family: Available for detailed correlation analysis\")\n        \n    print(f\"   ✅ Family-specific files provide more accurate model comparisons\")\n    print(f\"   ✅ Same data source = better name matching = higher correlations\")\n    \n    # Usage recommendations\n    print(f\"\\n🎯 HOW TO USE THESE RESULTS:\")\n    print(f\"   1. Choose your model based on league characteristics:\")\n    print(f\"      • Predictable/Expert leagues: Conservative model (lower survival rates)\")\n    print(f\"      • Chaotic/Casual leagues: Aggressive model (higher survival rates)\")\n    print(f\"      • Mixed leagues: Balanced model\")\n    print(f\"   2. Run the main optimizer with your chosen model\")\n    print(f\"   3. Use model disagreements to identify flexible picks\")\n    print(f\"   4. Prepare backup plans for high-disagreement players\")\n    print(f\"   5. Use family-specific files for accurate correlation analysis\")\n    \n    return {\n        'conservative': most_predictable['model_id'],\n        'aggressive': most_chaotic['model_id'],\n        'balanced': balanced_model['model_id']\n    }\n\n# Generate recommendations\nrecommendations = create_model_recommendations()\n\nprint(f\"\\n🚀 READY TO OPTIMIZE:\")\nprint(f\"   Run your chosen model with:\")\nprint(f\"   python scripts/dp_draft_optimizer_debug.py --mode stable --data-source {recommendations['balanced']}\")\n\nprint(f\"\\n✅ FIXED ISSUES:\")\nprint(f\"   ✅ Strategy logic corrected: Conservative = lower survival rates\")\nprint(f\"   ✅ Removed reference to missing correlation_results variable\")\nprint(f\"   ✅ Clear explanation of why model_id is used as data-source parameter\")",
   "metadata": {},
   "execution_count": null,
   "outputs": []
  }
 ],
 "metadata": {
  "kernelspec": {
   "display_name": "venv",
   "language": "python",
   "name": "python3"
  },
  "language_info": {
   "codemirror_mode": {
    "name": "ipython",
    "version": 3
   },
   "file_extension": ".py",
   "mimetype": "text/x-python",
   "name": "python",
   "nbconvert_exporter": "python",
   "pygments_lexer": "ipython3",
   "version": "3.13.6"
  }
 },
 "nbformat": 4,
 "nbformat_minor": 4
}